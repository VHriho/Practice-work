{
  "cells": [
    {
      "cell_type": "markdown",
      "metadata": {
        "id": "FMqboNwO4rVs"
      },
      "source": [
        "# **Курс \"Програмування на мові Python\"**"
      ]
    },
    {
      "cell_type": "markdown",
      "metadata": {
        "id": "A2T6MigL5Z06"
      },
      "source": [
        "## **Практичне зайняття №14**\n",
        "\n",
        "### Тема: \"Робота зі спеціальними форматами файлів\""
      ]
    },
    {
      "cell_type": "markdown",
      "metadata": {
        "id": "A34oz70eU463"
      },
      "source": [
        "### **Завдання 1 (1,5 бали)**\n",
        "\n",
        "Створіть CSV-файл, що буде містити від 5 до 10 пісень (творів) вашого улюбленого музиканта. Назва файлу - ім'я музиканта (композитора) або назва гурту.\n",
        "\n",
        "1. Обов'язково додайте до файлу рядок з назвами двох колонок (Song, Year) або (Composition, Year).\n",
        "\n",
        "2. Після запису файлу роздрукуйте назву файлу та усі наявні у файлі рядки (включно із заголовками).\n",
        "\n",
        "3. Для запису та зчитування рядків скористайтесь функціями csv.DictWriter() та csv.DictReader()."
      ]
    },
    {
      "cell_type": "code",
      "execution_count": 3,
      "metadata": {
        "id": "MEJIrG1GU463"
      },
      "outputs": [
        {
          "name": "stdout",
          "output_type": "stream",
          "text": [
            "AC-DC.csv\n",
            "Song Year \n",
            "::::::::::::::::::::\n",
            "Back in Black : 1980\n",
            "Shoot to Thrill : 1980\n",
            "Guns for Hire : 1983\n",
            "Cold Hearted Man : 2010\n",
            "Thunderstruck : 1990\n",
            "Have a Drink on ME : 1980\n",
            "War Machine : 2008\n"
          ]
        }
      ],
      "source": [
        "import csv\n",
        "\n",
        "with open('AC-DC.csv', 'w+', newline = '') as csvfile:\n",
        "\n",
        "    structure = ['Song', 'Year']\n",
        "    item = csv.DictWriter(csvfile, fieldnames = structure)\n",
        "    item.writeheader()\n",
        "    item.writerow({'Song': 'Back in Black', 'Year': '1980'})\n",
        "    item.writerow({'Song': 'Shoot to Thrill', 'Year':'1980'})\n",
        "    item.writerow({'Song': 'Guns for Hire', 'Year':'1983'})\n",
        "    item.writerow({'Song': 'Cold Hearted Man', 'Year':'2010'})\n",
        "    item.writerow({'Song': 'Thunderstruck', 'Year':'1990'})\n",
        "    item.writerow({'Song': 'Have a Drink on ME', 'Year':'1980'})\n",
        "    item.writerow({'Song': 'War Machine', 'Year':'2008'})\n",
        "    \n",
        "with open('AC-DC.csv', newline = '') as csvfile:    \n",
        "\n",
        "    print(csvfile.name)\n",
        "\n",
        "    reader = csv.DictReader(csvfile)\n",
        "    for header in reader.fieldnames:\n",
        "        print(header, end = ' ')\n",
        "    print('\\n::::::::::::::::::::')\n",
        "    for i in reader:\n",
        "        print(i['Song'], ':', i['Year'])\n",
        "    \n",
        "\n",
        "        \n"
      ]
    },
    {
      "cell_type": "markdown",
      "metadata": {
        "id": "Jb-eSBsWU464"
      },
      "source": [
        "### **Завдання 2 (1,5 бали)**\n",
        "\n",
        "COCO Dataset - набір фотографій та анотацій до них. Його дуже часто використовують для тренування класифікаторів, призначених для розпізнавання об'єктів та визначення ключових точок на зображеннях.\n",
        "\n",
        "Завантажте файли з описом фотографій COCO Dataset за посиланням: [COCO Dataset](http://images.cocodataset.org/annotations/image_info_test2017.zip).\n",
        "\n",
        "Відкрийте файл image_info_test-dev2017.json. Інформація про фотографії з бази COCO міститься у полі \"images\". Інформація про категорії, на які розділені всі фотографії, міститься у полі \"categories\".\n",
        "\n",
        "1. Визначте кількість фотографій, інформацію про які можна знайти у цьому файлі (кількість елементів, що відповідають ключу \"images\").\n",
        "\n",
        "2. Визначте кількість наявних категорій (кількість елементів, що відповідають ключу \"categories\").\n",
        "\n",
        "3. Виведіть посилання на фотографію 000000000001.jpg (\"coco_url\"). Також виведіть висоту цієї фотографії (\"height\"), ширину (\"width\") та її ідентифікатор (\"id\").\n",
        "\n",
        "4. Виведіть назву фотографії з набільшим номером.\n",
        "\n",
        "Опис структури JSON-файлу для набору фотографій COCO можна знайти за посиланням: [Data format](https://cocodataset.org/#format-data).\n",
        "\n",
        "Щоб перевірити правильність результатів, у VS Code встановіть розширення JSON та відкрийте файл image_info_test-dev2017.json. Розширення автоматично визначає кількість елементів у кожному полі."
      ]
    },
    {
      "cell_type": "code",
      "execution_count": 15,
      "metadata": {},
      "outputs": [
        {
          "name": "stdout",
          "output_type": "stream",
          "text": [
            "number of photos :  20288\n",
            "number of categories :  80\n",
            "coco_url :  http://images.cocodataset.org/test2017/000000000001.jpg \n",
            "height :  480 \n",
            "width :  640 \n",
            "id :  1\n",
            "max number image name :  000000581918.jpg\n"
          ]
        }
      ],
      "source": [
        "import json\n",
        "\n",
        "with open('image_info_test-dev2017.json', 'r') as jsonfile:\n",
        "    file_content = jsonfile.readlines()\n",
        "    a = 0\n",
        "    b = 0\n",
        "    for i in file_content:\n",
        "        line = json.loads(i)\n",
        "        print('number of photos : ', len(line['images']))\n",
        "        print('number of categories : ', len(line['categories']))\n",
        "        list_id = [l['id'] for l in line['images']]\n",
        "        for j in line['images']:\n",
        "            a += 1\n",
        "            if j['file_name'] == '000000000001.jpg':\n",
        "                break\n",
        "        image_dir = line['images'][a-1]\n",
        "    print('coco_url : ',image_dir['coco_url'],'\\n' \n",
        "          'height : ',image_dir['height'],'\\n'\n",
        "          'width : ',image_dir['width'],'\\n'\n",
        "          'id : ', image_dir['id'])\n",
        "    print('max number image name : ', line['images'][list_id.index(max(list_id))]['file_name'])\n"
      ]
    }
  ],
  "metadata": {
    "colab": {
      "collapsed_sections": [],
      "name": "Practice_14_KM_01.ipynb",
      "provenance": []
    },
    "kernelspec": {
      "display_name": "Python 3",
      "name": "python3"
    },
    "language_info": {
      "codemirror_mode": {
        "name": "ipython",
        "version": 3
      },
      "file_extension": ".py",
      "mimetype": "text/x-python",
      "name": "python",
      "nbconvert_exporter": "python",
      "pygments_lexer": "ipython3",
      "version": "3.9.1"
    }
  },
  "nbformat": 4,
  "nbformat_minor": 0
}
