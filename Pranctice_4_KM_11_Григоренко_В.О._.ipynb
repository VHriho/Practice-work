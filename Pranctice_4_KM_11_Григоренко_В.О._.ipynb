{
  "nbformat": 4,
  "nbformat_minor": 2,
  "metadata": {
    "colab": {
      "name": "Pranctice_3_KM-01_<name>.ipynb",
      "provenance": [],
      "collapsed_sections": []
    },
    "kernelspec": {
      "name": "python3",
      "display_name": "Python 3.9.1 64-bit"
    },
    "language_info": {
      "name": "python",
      "version": "3.9.1",
      "mimetype": "text/x-python",
      "codemirror_mode": {
        "name": "ipython",
        "version": 3
      },
      "pygments_lexer": "ipython3",
      "nbconvert_exporter": "python",
      "file_extension": ".py"
    },
    "interpreter": {
      "hash": "2b1fe07b89f893caaa14061d8ebe12fd4765c1ee42cb5289be87f4a5ba3a796e"
    }
  },
  "cells": [
    {
      "cell_type": "markdown",
      "source": [
        "# **Курс \"Програмування на мові Python\"**"
      ],
      "metadata": {
        "id": "1bRxWHr5e8kt"
      }
    },
    {
      "cell_type": "markdown",
      "source": [
        "## **Практичне зайняття №3**\n",
        "### Тема: \"Перші програми на Python. Введення та виведення даних. Інструкція if\""
      ],
      "metadata": {
        "id": "buZUwUgFe-kx"
      }
    },
    {
      "cell_type": "markdown",
      "source": [
        "### **Завдання 1 (1,5 бали)**\n",
        "\n"
      ],
      "metadata": {
        "id": "PUkxEn8EfAUe"
      }
    },
    {
      "cell_type": "markdown",
      "source": [
        "**Написати програму введення та виведення даних про одержувача листа (посилки) за стандартами Укрпошти.**\n",
        "\n",
        "1. Усі запити на введення даних повинні супроводжуватись відповідними підказками-поясненнями (бажано англійською мовою).\n",
        "\n",
        "2. Дані мають виводитись так, як показано нижче (з урахуванням кількості рядків та послідовності даних у кожному з них).\n",
        "\n",
        "3. Дані, виділені жирним шрифтом, повинні вводитись із клавіатури. Всього має бути 9 окремих команд введення даних\n",
        "\n",
        "4. Назви змінних повинні бути інформативними та оформленими відповідно до правил іменування змінних\n",
        "\n",
        "5. Додати 2 коментарі, що вказують на блоки введення та виведення даних.\n",
        "\n",
        "***Формат виведення даних:***\n",
        "\n",
        "(1) **Ім'я** (2) **Прізвище**\n",
        "\n",
        "(3) **Номер телефону**\n",
        "\n",
        "Str. (4) **Назва вулиці** (5) **Номер будинку**, ap. (6) **Номер квартири**, (7) **Місто**\n",
        "\n",
        "(8) **Індекс**\n",
        "\n",
        "(9) **Країна**\n",
        "\n",
        "***Приклад виведення:***\n",
        "\n",
        "*Lucas Diallo*\n",
        "\n",
        "*3221234567*\n",
        "\n",
        "*Str. Longue 3, ap. 5, Bruxelles*\n",
        "\n",
        "*1020*\n",
        "\n",
        "*Belgium*"
      ],
      "metadata": {
        "id": "M7jjwxAvfKa2"
      }
    },
    {
      "cell_type": "code",
      "execution_count": null,
      "source": [
        "name = input(\"Enter your name : \")\r\n",
        "surname = input(\"Enter surname : \")\r\n",
        "number = input(\"Enter phone number : \")\r\n",
        "street = input(\"Enter street : \")\r\n",
        "house = input(\"Enter house number : \")            #блок введення \r\n",
        "apartament = input(\"Enter apartament number : \")\r\n",
        "city = input(\"Enter city : \")\r\n",
        "index = input(\"Enter index : \")\r\n",
        "country = input(\"Enter country : \")\r\n",
        "\r\n",
        "print(name, surname)\r\n",
        "print(number)\r\n",
        "print(\"Str. {0} {1}, ap. {2}, {3}\". format(street, house, apartament, city ))            #блок виводу\r\n",
        "print(index)\r\n",
        "print(country)"
      ],
      "outputs": [],
      "metadata": {}
    },
    {
      "cell_type": "markdown",
      "source": [
        "### **Завдання 2 (1,5 бали)**"
      ],
      "metadata": {
        "id": "WmnpKrmPf689"
      }
    },
    {
      "cell_type": "markdown",
      "source": [
        "Таблиця містить магнітуду землетрусів за шкалою Ріхтера та дескриптори, що їй відповідають.\n",
        "\n",
        "Магнітуда | Дескриптор\n",
        "--- | ---\n",
        "Менше, ніж 2 | Micro\n",
        "Від 2 до менше ніж 3 | Very minor\n",
        "Від 3 до менше ніж 4 | Minor\n",
        "Від 4 до менше ніж 5 | Light\n",
        "Від 5 до менше ніж 6 | Moderate\n",
        "Від 6 до менше ніж 7 | Strong\n",
        "Від 7 до менше ніж 8 | Major\n",
        "Від 8 до менше ніж 10 | Great\n",
        "10 та більше | Meteoric\n",
        "\n",
        "Напишіть програму, яка буде зчитувати магнітуду, введену користувачем, та виводити відповідний дескриптор як частину змістовного повідомлення. Наприклад, якщо користувач вводить 5.5, ваша програма повинна показати, що землетрус з такою магнітудою є помірним (moderate)."
      ],
      "metadata": {
        "id": "4n4p_pz7gFKM"
      }
    },
    {
      "cell_type": "code",
      "execution_count": null,
      "source": [
        "var1 = float(input(\"Enter the magnitude : \")) \r\n",
        "if var1 < 2 :\r\n",
        "    print(\"An earthquake of this magnitude is Micro\")\r\n",
        "elif var1 >= 2 and var1 < 3 :\r\n",
        "    print (\"An earthquake of this magnitude is Very minor\")\r\n",
        "elif var1 >= 3 and var1 <4 :\r\n",
        "    print (\"An earthquake of this magnitude is Minor\")\r\n",
        "elif var1 >= 4 and var1 <5 :\r\n",
        "    print (\"An earthquake of this magnitude is Light\")\r\n",
        "elif var1 >= 5 and var1 <6 :\r\n",
        "    print (\"An earthquake of this magnitude is Moderate\")\r\n",
        "elif var1 >= 6 and var1 <7 :\r\n",
        "    print (\"An earthquake of this magnitude is Strong\")\r\n",
        "elif var1 >= 7 and var1 <8 :\r\n",
        "    print (\"An earthquake of this magnitude is Major\")\r\n",
        "elif var1 >= 8 and var1 <10 :\r\n",
        "    print (\"An earthquake of this magnitude is Great\")\r\n",
        "else : \r\n",
        "    print(\"An earthquake of this magnitude is Meteoric\")"
      ],
      "outputs": [],
      "metadata": {
        "id": "Nv66Jkkpf-sI"
      }
    },
    {
      "cell_type": "markdown",
      "source": [
        "### **Завдання 3 (бонусне, 1 бал)**"
      ],
      "metadata": {
        "id": "X8fC_GM_nMRi"
      }
    },
    {
      "cell_type": "markdown",
      "source": [
        "Часто говорять, що один календарний рік еквівалентний 7 рокам для собаки. Однак таке просте перетворення не враховує того, що собаки досягають повноліття приблизно у 2 роки. Тому деякі люди вважать, що краще рахувати кожен з перших двох календарних років як 10,5 років для собаки, а потім рахувати кожен наступний календарний рік як 4 роки для собаки.\n",
        "\n",
        "Напишіть програму, яка конвертує календарні роки у \"собачі\", як було показано в попередньому абзаці. Переконайтесь, що ваша програма працює правильно, конвертуючи перші два календарні роки та всі подальші. Ваша програма також повинна виводити повідомлення про помилку, якщо користувач введе від'ємне число."
      ],
      "metadata": {
        "id": "b593txPwotgN"
      }
    },
    {
      "cell_type": "code",
      "execution_count": null,
      "source": [
        "var1 = 100\r\n",
        "while var1 :\r\n",
        "    age1 = float(input(\"Enter dog's age : \"))\r\n",
        "    if age1 < 0 :\r\n",
        "        print(\"Enter positive number !!!\")\r\n",
        "    else : \r\n",
        "        var1 = 0\r\n",
        "if age1 <= 1 :\r\n",
        "    print(\"Age of your dog like humen is {0}\".format(age1*10.5))\r\n",
        "elif age1 <= 2 :\r\n",
        "    print(\"Age of your dog like humen is {0}\".format(age1*10.5))\r\n",
        "else :\r\n",
        "    print(\"Age of your dog like humen is {0}\".format(21+(age1-2)*4))"
      ],
      "outputs": [],
      "metadata": {
        "id": "PA_E_H0Zosu0"
      }
    }
  ]
}